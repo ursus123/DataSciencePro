{
 "cells": [
  {
   "cell_type": "markdown",
   "metadata": {},
   "source": [
    "## Importing Financial Data From the web"
   ]
  },
  {
   "cell_type": "markdown",
   "metadata": {},
   "source": [
    "#### 1. Importing Libraries"
   ]
  },
  {
   "cell_type": "code",
   "execution_count": 4,
   "metadata": {},
   "outputs": [],
   "source": [
    "#Importing Libraries\n",
    "import pandas as pd\n",
    "import numpy as np\n",
    "from pandas_datareader.data import DataReader\n",
    "from datetime import date\n",
    "import datetime"
   ]
  },
  {
   "cell_type": "markdown",
   "metadata": {},
   "source": [
    "#### 2. Generating Dates"
   ]
  },
  {
   "cell_type": "code",
   "execution_count": 5,
   "metadata": {},
   "outputs": [],
   "source": [
    "start=date(2018,1,1)\n",
    "end=date(2019,12,31) #today's date"
   ]
  },
  {
   "cell_type": "markdown",
   "metadata": {},
   "source": [
    "#### 3.Specifying Data Sources"
   ]
  },
  {
   "cell_type": "code",
   "execution_count": 6,
   "metadata": {},
   "outputs": [],
   "source": [
    "ticker='AAPL'\n",
    "data_source='iex'\n",
    "API_KEY='pk_de2c450b48fb4088a1ca5da5f042a84a'"
   ]
  },
  {
   "cell_type": "markdown",
   "metadata": {},
   "source": [
    "#### 4.Create a data reader object"
   ]
  },
  {
   "cell_type": "code",
   "execution_count": 76,
   "metadata": {},
   "outputs": [],
   "source": [
    "stock_data=DataReader(ticker,data_source,start,end,api_key=API_KEY)"
   ]
  },
  {
   "cell_type": "code",
   "execution_count": 77,
   "metadata": {},
   "outputs": [
    {
     "data": {
      "text/html": [
       "<div>\n",
       "<style scoped>\n",
       "    .dataframe tbody tr th:only-of-type {\n",
       "        vertical-align: middle;\n",
       "    }\n",
       "\n",
       "    .dataframe tbody tr th {\n",
       "        vertical-align: top;\n",
       "    }\n",
       "\n",
       "    .dataframe thead th {\n",
       "        text-align: right;\n",
       "    }\n",
       "</style>\n",
       "<table border=\"1\" class=\"dataframe\">\n",
       "  <thead>\n",
       "    <tr style=\"text-align: right;\">\n",
       "      <th></th>\n",
       "      <th>open</th>\n",
       "      <th>high</th>\n",
       "      <th>low</th>\n",
       "      <th>close</th>\n",
       "      <th>volume</th>\n",
       "    </tr>\n",
       "    <tr>\n",
       "      <th>date</th>\n",
       "      <th></th>\n",
       "      <th></th>\n",
       "      <th></th>\n",
       "      <th></th>\n",
       "      <th></th>\n",
       "    </tr>\n",
       "  </thead>\n",
       "  <tbody>\n",
       "    <tr>\n",
       "      <th>2015-08-27</th>\n",
       "      <td>112.23</td>\n",
       "      <td>113.24</td>\n",
       "      <td>110.02</td>\n",
       "      <td>112.92</td>\n",
       "      <td>84616056</td>\n",
       "    </tr>\n",
       "    <tr>\n",
       "      <th>2015-08-28</th>\n",
       "      <td>112.17</td>\n",
       "      <td>113.31</td>\n",
       "      <td>111.54</td>\n",
       "      <td>113.29</td>\n",
       "      <td>53164407</td>\n",
       "    </tr>\n",
       "    <tr>\n",
       "      <th>2015-08-31</th>\n",
       "      <td>112.03</td>\n",
       "      <td>114.53</td>\n",
       "      <td>112.00</td>\n",
       "      <td>112.76</td>\n",
       "      <td>56229271</td>\n",
       "    </tr>\n",
       "    <tr>\n",
       "      <th>2015-09-01</th>\n",
       "      <td>110.15</td>\n",
       "      <td>111.88</td>\n",
       "      <td>107.36</td>\n",
       "      <td>107.72</td>\n",
       "      <td>76845860</td>\n",
       "    </tr>\n",
       "    <tr>\n",
       "      <th>2015-09-02</th>\n",
       "      <td>110.23</td>\n",
       "      <td>112.34</td>\n",
       "      <td>109.13</td>\n",
       "      <td>112.34</td>\n",
       "      <td>61888812</td>\n",
       "    </tr>\n",
       "    <tr>\n",
       "      <th>...</th>\n",
       "      <td>...</td>\n",
       "      <td>...</td>\n",
       "      <td>...</td>\n",
       "      <td>...</td>\n",
       "      <td>...</td>\n",
       "    </tr>\n",
       "    <tr>\n",
       "      <th>2016-12-23</th>\n",
       "      <td>115.59</td>\n",
       "      <td>116.52</td>\n",
       "      <td>115.59</td>\n",
       "      <td>116.52</td>\n",
       "      <td>14249484</td>\n",
       "    </tr>\n",
       "    <tr>\n",
       "      <th>2016-12-27</th>\n",
       "      <td>116.52</td>\n",
       "      <td>117.80</td>\n",
       "      <td>116.49</td>\n",
       "      <td>117.26</td>\n",
       "      <td>18296855</td>\n",
       "    </tr>\n",
       "    <tr>\n",
       "      <th>2016-12-28</th>\n",
       "      <td>117.52</td>\n",
       "      <td>118.02</td>\n",
       "      <td>116.20</td>\n",
       "      <td>116.76</td>\n",
       "      <td>20905892</td>\n",
       "    </tr>\n",
       "    <tr>\n",
       "      <th>2016-12-29</th>\n",
       "      <td>116.45</td>\n",
       "      <td>117.11</td>\n",
       "      <td>116.40</td>\n",
       "      <td>116.73</td>\n",
       "      <td>15039519</td>\n",
       "    </tr>\n",
       "    <tr>\n",
       "      <th>2016-12-30</th>\n",
       "      <td>116.65</td>\n",
       "      <td>117.20</td>\n",
       "      <td>115.43</td>\n",
       "      <td>115.82</td>\n",
       "      <td>30586265</td>\n",
       "    </tr>\n",
       "  </tbody>\n",
       "</table>\n",
       "<p>340 rows × 5 columns</p>\n",
       "</div>"
      ],
      "text/plain": [
       "              open    high     low   close    volume\n",
       "date                                                \n",
       "2015-08-27  112.23  113.24  110.02  112.92  84616056\n",
       "2015-08-28  112.17  113.31  111.54  113.29  53164407\n",
       "2015-08-31  112.03  114.53  112.00  112.76  56229271\n",
       "2015-09-01  110.15  111.88  107.36  107.72  76845860\n",
       "2015-09-02  110.23  112.34  109.13  112.34  61888812\n",
       "...            ...     ...     ...     ...       ...\n",
       "2016-12-23  115.59  116.52  115.59  116.52  14249484\n",
       "2016-12-27  116.52  117.80  116.49  117.26  18296855\n",
       "2016-12-28  117.52  118.02  116.20  116.76  20905892\n",
       "2016-12-29  116.45  117.11  116.40  116.73  15039519\n",
       "2016-12-30  116.65  117.20  115.43  115.82  30586265\n",
       "\n",
       "[340 rows x 5 columns]"
      ]
     },
     "execution_count": 77,
     "metadata": {},
     "output_type": "execute_result"
    }
   ],
   "source": [
    "stock_data"
   ]
  },
  {
   "cell_type": "code",
   "execution_count": 7,
   "metadata": {},
   "outputs": [],
   "source": [
    "ticker1='NFLX'"
   ]
  },
  {
   "cell_type": "code",
   "execution_count": 9,
   "metadata": {},
   "outputs": [],
   "source": [
    "stock_data1=DataReader(ticker1,data_source,start,end,api_key=API_KEY)"
   ]
  },
  {
   "cell_type": "code",
   "execution_count": null,
   "metadata": {},
   "outputs": [],
   "source": []
  }
 ],
 "metadata": {
  "kernelspec": {
   "display_name": "Python 3",
   "language": "python",
   "name": "python3"
  },
  "language_info": {
   "codemirror_mode": {
    "name": "ipython",
    "version": 3
   },
   "file_extension": ".py",
   "mimetype": "text/x-python",
   "name": "python",
   "nbconvert_exporter": "python",
   "pygments_lexer": "ipython3",
   "version": "3.8.3"
  }
 },
 "nbformat": 4,
 "nbformat_minor": 4
}
