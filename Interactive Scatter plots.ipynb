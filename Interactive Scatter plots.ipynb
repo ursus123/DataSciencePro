{
 "cells": [
  {
   "cell_type": "markdown",
   "metadata": {},
   "source": [
    "### Interactive SCATTER Plot"
   ]
  },
  {
   "cell_type": "code",
   "execution_count": 1,
   "metadata": {},
   "outputs": [],
   "source": [
    "import pandas as pd \n",
    "import numpy as np\n",
    "import matplotlib.pyplot as plt \n",
    "import matplotlib\n",
    "%matplotlib inline\n",
    "import pandas.plotting\n",
    "from IPython import display\n",
    "from ipywidgets import interact, widgets\n",
    "import plotly.express as px"
   ]
  },
  {
   "cell_type": "code",
   "execution_count": 2,
   "metadata": {},
   "outputs": [],
   "source": [
    "gapminder=pd.read_csv('C:\\\\Users\\\\write\\\\Documents\\\\data\\\\Ex_Files_Python_Statistics_EssT\\\\Exercise Files\\\\chapter3\\\\03_05\\\\gapminder.csv')"
   ]
  },
  {
   "cell_type": "code",
   "execution_count": 3,
   "metadata": {},
   "outputs": [
    {
     "data": {
      "text/html": [
       "<div>\n",
       "<style scoped>\n",
       "    .dataframe tbody tr th:only-of-type {\n",
       "        vertical-align: middle;\n",
       "    }\n",
       "\n",
       "    .dataframe tbody tr th {\n",
       "        vertical-align: top;\n",
       "    }\n",
       "\n",
       "    .dataframe thead th {\n",
       "        text-align: right;\n",
       "    }\n",
       "</style>\n",
       "<table border=\"1\" class=\"dataframe\">\n",
       "  <thead>\n",
       "    <tr style=\"text-align: right;\">\n",
       "      <th></th>\n",
       "      <th>country</th>\n",
       "      <th>year</th>\n",
       "      <th>region</th>\n",
       "      <th>population</th>\n",
       "      <th>life_expectancy</th>\n",
       "      <th>age5_surviving</th>\n",
       "      <th>babies_per_woman</th>\n",
       "      <th>gdp_per_capita</th>\n",
       "      <th>gdp_per_day</th>\n",
       "    </tr>\n",
       "  </thead>\n",
       "  <tbody>\n",
       "    <tr>\n",
       "      <th>1459</th>\n",
       "      <td>Bhutan</td>\n",
       "      <td>1810</td>\n",
       "      <td>Asia</td>\n",
       "      <td>89989.0</td>\n",
       "      <td>28.80</td>\n",
       "      <td>54.049</td>\n",
       "      <td>6.67</td>\n",
       "      <td>630.0</td>\n",
       "      <td>1.724846</td>\n",
       "    </tr>\n",
       "    <tr>\n",
       "      <th>3460</th>\n",
       "      <td>Cuba</td>\n",
       "      <td>1995</td>\n",
       "      <td>America</td>\n",
       "      <td>10906048.0</td>\n",
       "      <td>75.00</td>\n",
       "      <td>98.920</td>\n",
       "      <td>1.61</td>\n",
       "      <td>9195.0</td>\n",
       "      <td>25.174538</td>\n",
       "    </tr>\n",
       "    <tr>\n",
       "      <th>13011</th>\n",
       "      <td>Tanzania</td>\n",
       "      <td>1988</td>\n",
       "      <td>Africa</td>\n",
       "      <td>23914852.0</td>\n",
       "      <td>55.51</td>\n",
       "      <td>83.160</td>\n",
       "      <td>6.33</td>\n",
       "      <td>1442.0</td>\n",
       "      <td>3.947981</td>\n",
       "    </tr>\n",
       "    <tr>\n",
       "      <th>1421</th>\n",
       "      <td>Benin</td>\n",
       "      <td>1979</td>\n",
       "      <td>Africa</td>\n",
       "      <td>3618509.0</td>\n",
       "      <td>48.88</td>\n",
       "      <td>77.850</td>\n",
       "      <td>7.02</td>\n",
       "      <td>1255.0</td>\n",
       "      <td>3.436003</td>\n",
       "    </tr>\n",
       "    <tr>\n",
       "      <th>11083</th>\n",
       "      <td>St. Lucia</td>\n",
       "      <td>2004</td>\n",
       "      <td>America</td>\n",
       "      <td>163462.0</td>\n",
       "      <td>72.80</td>\n",
       "      <td>98.280</td>\n",
       "      <td>2.06</td>\n",
       "      <td>10455.0</td>\n",
       "      <td>28.624230</td>\n",
       "    </tr>\n",
       "  </tbody>\n",
       "</table>\n",
       "</div>"
      ],
      "text/plain": [
       "         country  year   region  population  life_expectancy  age5_surviving  \\\n",
       "1459      Bhutan  1810     Asia     89989.0            28.80          54.049   \n",
       "3460        Cuba  1995  America  10906048.0            75.00          98.920   \n",
       "13011   Tanzania  1988   Africa  23914852.0            55.51          83.160   \n",
       "1421       Benin  1979   Africa   3618509.0            48.88          77.850   \n",
       "11083  St. Lucia  2004  America    163462.0            72.80          98.280   \n",
       "\n",
       "       babies_per_woman  gdp_per_capita  gdp_per_day  \n",
       "1459               6.67           630.0     1.724846  \n",
       "3460               1.61          9195.0    25.174538  \n",
       "13011              6.33          1442.0     3.947981  \n",
       "1421               7.02          1255.0     3.436003  \n",
       "11083              2.06         10455.0    28.624230  "
      ]
     },
     "execution_count": 3,
     "metadata": {},
     "output_type": "execute_result"
    }
   ],
   "source": [
    "gapminder.sample(5)"
   ]
  },
  {
   "cell_type": "code",
   "execution_count": 4,
   "metadata": {},
   "outputs": [
    {
     "data": {
      "text/plain": [
       "(14740, 9)"
      ]
     },
     "execution_count": 4,
     "metadata": {},
     "output_type": "execute_result"
    }
   ],
   "source": [
    "gapminder.shape"
   ]
  },
  {
   "cell_type": "code",
   "execution_count": 5,
   "metadata": {},
   "outputs": [],
   "source": [
    "def plotyear(y):\n",
    "    \"\"\"We want to plot life expectancy and gdp_per_day\n",
    "    where the input is year\"\"\"\n",
    "    data=gapminder[gapminder.year==y].sort_values('population', ascending=False)\n",
    "    area= 5e-6*data.population\n",
    "    color=data.age5_surviving\n",
    "    \n",
    "    edge=data.region.map({'Africa':'green', 'Asia':'red','Europe':'gold','America':'blue'})\n",
    "    \n",
    "    data.plot.scatter('gdp_per_day','life_expectancy', logx=True, \n",
    "                      s=area, figsize=(10,8),\n",
    "                     edgecolors=edge, linewidths=2, \n",
    "                      c=edge, colormap= matplotlib.cm.get_cmap('Purples_r'), vmin=55, vmax=100,\n",
    "                     sharex=False)\n",
    "    for money_levels in [4,16,64]:\n",
    "        plt.axvline(money_levels, linestyle=':', color='k')\n",
    "    plt.axis(xmin=1, xmax=500, ymin=30, ymax=100)\n",
    "    "
   ]
  },
  {
   "cell_type": "code",
   "execution_count": 16,
   "metadata": {},
   "outputs": [
    {
     "data": {
      "application/vnd.jupyter.widget-view+json": {
       "model_id": "cdfdd43944a349af90861fb765ac46b1",
       "version_major": 2,
       "version_minor": 0
      },
      "text/plain": [
       "interactive(children=(Dropdown(description='y', options=(1965, 1975, 1985, 1995, 2005, 2015), value=1965), Out…"
      ]
     },
     "metadata": {},
     "output_type": "display_data"
    },
    {
     "data": {
      "text/plain": [
       "<function __main__.plotyear(y)>"
      ]
     },
     "execution_count": 16,
     "metadata": {},
     "output_type": "execute_result"
    }
   ],
   "source": [
    "interact(plotyear,y=range(1965,2025,10))"
   ]
  },
  {
   "cell_type": "code",
   "execution_count": null,
   "metadata": {},
   "outputs": [],
   "source": []
  },
  {
   "cell_type": "code",
   "execution_count": null,
   "metadata": {},
   "outputs": [],
   "source": []
  },
  {
   "cell_type": "code",
   "execution_count": null,
   "metadata": {},
   "outputs": [],
   "source": []
  },
  {
   "cell_type": "code",
   "execution_count": null,
   "metadata": {},
   "outputs": [],
   "source": []
  }
 ],
 "metadata": {
  "kernelspec": {
   "display_name": "Python 3",
   "language": "python",
   "name": "python3"
  },
  "language_info": {
   "codemirror_mode": {
    "name": "ipython",
    "version": 3
   },
   "file_extension": ".py",
   "mimetype": "text/x-python",
   "name": "python",
   "nbconvert_exporter": "python",
   "pygments_lexer": "ipython3",
   "version": "3.8.3"
  }
 },
 "nbformat": 4,
 "nbformat_minor": 4
}
