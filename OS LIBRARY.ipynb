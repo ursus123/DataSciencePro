{
 "cells": [
  {
   "cell_type": "code",
   "execution_count": 1,
   "metadata": {},
   "outputs": [],
   "source": [
    "import os "
   ]
  },
  {
   "cell_type": "markdown",
   "metadata": {},
   "source": [
    "### 1. How to check the current directory"
   ]
  },
  {
   "cell_type": "code",
   "execution_count": 4,
   "metadata": {},
   "outputs": [
    {
     "data": {
      "text/plain": [
       "'C:\\\\Users\\\\write\\\\Documents\\\\Guided Capston\\\\DataScienceGuidedCapstone-master\\\\Step Four - Preprocessing and Training'"
      ]
     },
     "execution_count": 4,
     "metadata": {},
     "output_type": "execute_result"
    }
   ],
   "source": [
    "# How to check the current directory\n",
    "os.getcwd()"
   ]
  },
  {
   "cell_type": "markdown",
   "metadata": {},
   "source": [
    "### 2. How to get what's in the current directory"
   ]
  },
  {
   "cell_type": "code",
   "execution_count": 5,
   "metadata": {},
   "outputs": [
    {
     "data": {
      "text/plain": [
       "['.ipynb_checkpoints',\n",
       " '04_preprocessing_and_training.ipynb',\n",
       " 'models',\n",
       " 'Untitled.ipynb']"
      ]
     },
     "execution_count": 5,
     "metadata": {},
     "output_type": "execute_result"
    }
   ],
   "source": [
    "# How to get what's in the current directory\n",
    "os.listdir()"
   ]
  },
  {
   "cell_type": "markdown",
   "metadata": {},
   "source": [
    "### 3. How to get what's in a certain directory"
   ]
  },
  {
   "cell_type": "code",
   "execution_count": 6,
   "metadata": {},
   "outputs": [
    {
     "data": {
      "text/plain": [
       "['.git',\n",
       " 'images',\n",
       " 'raw_data',\n",
       " 'README.md',\n",
       " 'Step Five - Modeling',\n",
       " 'Step Four - Preprocessing and Training',\n",
       " 'Step Three - Exploratory Data Analysis',\n",
       " 'Step Two - Data Wrangling']"
      ]
     },
     "execution_count": 6,
     "metadata": {},
     "output_type": "execute_result"
    }
   ],
   "source": [
    "# How to get what's in a certain directory\n",
    "os.listdir('C:\\\\Users\\\\write\\\\Documents\\\\Guided Capston\\\\DataScienceGuidedCapstone-master\\\\')"
   ]
  },
  {
   "cell_type": "markdown",
   "metadata": {},
   "source": [
    "### 4.  How to create a folder in a certain directory"
   ]
  },
  {
   "cell_type": "code",
   "execution_count": 7,
   "metadata": {},
   "outputs": [],
   "source": [
    "# How to create a folder in a certain directory\n",
    "os.mkdir('osfolder')"
   ]
  },
  {
   "cell_type": "code",
   "execution_count": 10,
   "metadata": {},
   "outputs": [
    {
     "data": {
      "text/plain": [
       "['.ipynb_checkpoints',\n",
       " '04_preprocessing_and_training.ipynb',\n",
       " 'models',\n",
       " 'osfolder',\n",
       " 'Untitled.ipynb']"
      ]
     },
     "execution_count": 10,
     "metadata": {},
     "output_type": "execute_result"
    }
   ],
   "source": [
    "os.listdir()"
   ]
  },
  {
   "cell_type": "code",
   "execution_count": 11,
   "metadata": {},
   "outputs": [
    {
     "data": {
      "text/plain": [
       "'C:\\\\Users\\\\write\\\\Documents\\\\Guided Capston\\\\DataScienceGuidedCapstone-master\\\\Step Four - Preprocessing and Training'"
      ]
     },
     "execution_count": 11,
     "metadata": {},
     "output_type": "execute_result"
    }
   ],
   "source": [
    "os.getcwd()"
   ]
  },
  {
   "cell_type": "markdown",
   "metadata": {},
   "source": [
    "**As you can see we have created a folder in the current director because we didn't specify a complete directory**"
   ]
  },
  {
   "cell_type": "markdown",
   "metadata": {},
   "source": [
    "### 5. How to create folders and sub_folders"
   ]
  },
  {
   "cell_type": "code",
   "execution_count": 12,
   "metadata": {},
   "outputs": [],
   "source": [
    "os.makedirs('ursus_sr/ursus_jr')"
   ]
  },
  {
   "cell_type": "code",
   "execution_count": 13,
   "metadata": {},
   "outputs": [
    {
     "data": {
      "text/plain": [
       "['.ipynb_checkpoints',\n",
       " '04_preprocessing_and_training.ipynb',\n",
       " 'models',\n",
       " 'osfolder',\n",
       " 'Untitled.ipynb',\n",
       " 'ursus_sr']"
      ]
     },
     "execution_count": 13,
     "metadata": {},
     "output_type": "execute_result"
    }
   ],
   "source": [
    "os.listdir()"
   ]
  },
  {
   "cell_type": "code",
   "execution_count": 14,
   "metadata": {},
   "outputs": [],
   "source": [
    "# Lets see if we have created a sub_folder into the 'ursus_sr' folder\n",
    "os.chdir('C:\\\\Users\\\\write\\\\Documents\\\\Guided Capston\\\\DataScienceGuidedCapstone-master\\\\Step Four - Preprocessing and Training\\\\ursus_sr')"
   ]
  },
  {
   "cell_type": "code",
   "execution_count": 15,
   "metadata": {},
   "outputs": [
    {
     "data": {
      "text/plain": [
       "'C:\\\\Users\\\\write\\\\Documents\\\\Guided Capston\\\\DataScienceGuidedCapstone-master\\\\Step Four - Preprocessing and Training\\\\ursus_sr'"
      ]
     },
     "execution_count": 15,
     "metadata": {},
     "output_type": "execute_result"
    }
   ],
   "source": [
    "os.getcwd() #as you can see we are in the 'ursus_sr' directory"
   ]
  },
  {
   "cell_type": "code",
   "execution_count": 16,
   "metadata": {},
   "outputs": [
    {
     "data": {
      "text/plain": [
       "['ursus_jr']"
      ]
     },
     "execution_count": 16,
     "metadata": {},
     "output_type": "execute_result"
    }
   ],
   "source": [
    "os.listdir() #and as a result we have created a sub_folder"
   ]
  },
  {
   "cell_type": "markdown",
   "metadata": {},
   "source": [
    "### 6. How to remove a folder"
   ]
  },
  {
   "cell_type": "code",
   "execution_count": 17,
   "metadata": {},
   "outputs": [],
   "source": [
    "#first lets create one \n",
    "os.mkdir('to_be_deleted')"
   ]
  },
  {
   "cell_type": "code",
   "execution_count": 18,
   "metadata": {},
   "outputs": [
    {
     "data": {
      "text/plain": [
       "'C:\\\\Users\\\\write\\\\Documents\\\\Guided Capston\\\\DataScienceGuidedCapstone-master\\\\Step Four - Preprocessing and Training\\\\ursus_sr'"
      ]
     },
     "execution_count": 18,
     "metadata": {},
     "output_type": "execute_result"
    }
   ],
   "source": [
    "os.getcwd()"
   ]
  },
  {
   "cell_type": "code",
   "execution_count": 19,
   "metadata": {},
   "outputs": [
    {
     "data": {
      "text/plain": [
       "['to_be_deleted', 'ursus_jr']"
      ]
     },
     "execution_count": 19,
     "metadata": {},
     "output_type": "execute_result"
    }
   ],
   "source": [
    "os.listdir() #we have two folders in the current directory"
   ]
  },
  {
   "cell_type": "code",
   "execution_count": 21,
   "metadata": {},
   "outputs": [],
   "source": [
    "#lets delete on \n",
    "os.rmdir('to_be_deleted')"
   ]
  },
  {
   "cell_type": "code",
   "execution_count": 22,
   "metadata": {},
   "outputs": [
    {
     "data": {
      "text/plain": [
       "['ursus_jr']"
      ]
     },
     "execution_count": 22,
     "metadata": {},
     "output_type": "execute_result"
    }
   ],
   "source": [
    "os.listdir() #its deleted you can use removedir('folder/sub_folder')"
   ]
  },
  {
   "cell_type": "markdown",
   "metadata": {},
   "source": [
    "### 7. How to rename a sub_folder"
   ]
  },
  {
   "cell_type": "code",
   "execution_count": 24,
   "metadata": {},
   "outputs": [],
   "source": [
    "#lets rename a folder\n",
    "#we first change the directory\n",
    "os.chdir('C:\\\\Users\\\\write\\\\Documents\\\\Guided Capston\\\\DataScienceGuidedCapstone-master\\\\Step Four - Preprocessing and Training\\\\')"
   ]
  },
  {
   "cell_type": "code",
   "execution_count": 25,
   "metadata": {},
   "outputs": [
    {
     "data": {
      "text/plain": [
       "['.ipynb_checkpoints',\n",
       " '04_preprocessing_and_training.ipynb',\n",
       " 'models',\n",
       " 'osfolder',\n",
       " 'Untitled.ipynb',\n",
       " 'ursus_sr']"
      ]
     },
     "execution_count": 25,
     "metadata": {},
     "output_type": "execute_result"
    }
   ],
   "source": [
    "os.listdir() #we want to change 'ursus_sr' to 'muhoza_sr'"
   ]
  },
  {
   "cell_type": "code",
   "execution_count": 26,
   "metadata": {},
   "outputs": [],
   "source": [
    "os.rename('ursus_sr','muhoza_sr') #we use this to change the name "
   ]
  },
  {
   "cell_type": "code",
   "execution_count": 27,
   "metadata": {},
   "outputs": [
    {
     "data": {
      "text/plain": [
       "['.ipynb_checkpoints',\n",
       " '04_preprocessing_and_training.ipynb',\n",
       " 'models',\n",
       " 'muhoza_sr',\n",
       " 'osfolder',\n",
       " 'Untitled.ipynb']"
      ]
     },
     "execution_count": 27,
     "metadata": {},
     "output_type": "execute_result"
    }
   ],
   "source": [
    "os.listdir() #as you can see the folder name has changed"
   ]
  },
  {
   "cell_type": "markdown",
   "metadata": {},
   "source": [
    "### 8. How to see the information about a folder "
   ]
  },
  {
   "cell_type": "code",
   "execution_count": 28,
   "metadata": {},
   "outputs": [
    {
     "data": {
      "text/plain": [
       "os.stat_result(st_mode=16895, st_ino=1688849860610503, st_dev=1794797927, st_nlink=1, st_uid=0, st_gid=0, st_size=0, st_atime=1597079397, st_mtime=1597079397, st_ctime=1597062390)"
      ]
     },
     "execution_count": 28,
     "metadata": {},
     "output_type": "execute_result"
    }
   ],
   "source": [
    "os.stat('muhoza_sr')"
   ]
  },
  {
   "cell_type": "markdown",
   "metadata": {},
   "source": [
    "### 9. If you want to search everything in a certain directory"
   ]
  },
  {
   "cell_type": "code",
   "execution_count": 32,
   "metadata": {},
   "outputs": [
    {
     "name": "stdout",
     "output_type": "stream",
     "text": [
      "CURRENT PATH:  C:\\Users\\write\\Documents\\Guided Capston\\DataScienceGuidedCapstone-master\\Step Four - Preprocessing and Training\n",
      "DIRECTORIES/FOLDERS:  ['.ipynb_checkpoints', 'models', 'muhoza_sr', 'osfolder']\n",
      "FILES:  ['04_preprocessing_and_training.ipynb', 'Untitled.ipynb']\n",
      "CURRENT PATH:  C:\\Users\\write\\Documents\\Guided Capston\\DataScienceGuidedCapstone-master\\Step Four - Preprocessing and Training\\.ipynb_checkpoints\n",
      "DIRECTORIES/FOLDERS:  []\n",
      "FILES:  ['04_preprocessing_and_training-checkpoint.ipynb', 'Untitled-checkpoint.ipynb']\n",
      "CURRENT PATH:  C:\\Users\\write\\Documents\\Guided Capston\\DataScienceGuidedCapstone-master\\Step Four - Preprocessing and Training\\models\n",
      "DIRECTORIES/FOLDERS:  []\n",
      "FILES:  []\n",
      "CURRENT PATH:  C:\\Users\\write\\Documents\\Guided Capston\\DataScienceGuidedCapstone-master\\Step Four - Preprocessing and Training\\muhoza_sr\n",
      "DIRECTORIES/FOLDERS:  ['ursus_jr']\n",
      "FILES:  []\n",
      "CURRENT PATH:  C:\\Users\\write\\Documents\\Guided Capston\\DataScienceGuidedCapstone-master\\Step Four - Preprocessing and Training\\muhoza_sr\\ursus_jr\n",
      "DIRECTORIES/FOLDERS:  []\n",
      "FILES:  []\n",
      "CURRENT PATH:  C:\\Users\\write\\Documents\\Guided Capston\\DataScienceGuidedCapstone-master\\Step Four - Preprocessing and Training\\osfolder\n",
      "DIRECTORIES/FOLDERS:  []\n",
      "FILES:  []\n"
     ]
    }
   ],
   "source": [
    "#we os.walk\n",
    "for dirpath, dirnames, filenames in os.walk(os.getcwd()):\n",
    "    print('CURRENT PATH: ', dirpath)\n",
    "    print('DIRECTORIES/FOLDERS: ', dirnames)\n",
    "    print('FILES: ', filenames)"
   ]
  },
  {
   "cell_type": "markdown",
   "metadata": {},
   "source": [
    "### 10. How to know if a certain  path/directory exists"
   ]
  },
  {
   "cell_type": "code",
   "execution_count": 39,
   "metadata": {},
   "outputs": [
    {
     "data": {
      "text/plain": [
       "True"
      ]
     },
     "execution_count": 39,
     "metadata": {},
     "output_type": "execute_result"
    }
   ],
   "source": [
    "os.path.exists('muhoza_sr')"
   ]
  },
  {
   "cell_type": "code",
   "execution_count": null,
   "metadata": {},
   "outputs": [],
   "source": []
  }
 ],
 "metadata": {
  "kernelspec": {
   "display_name": "Python 3",
   "language": "python",
   "name": "python3"
  },
  "language_info": {
   "codemirror_mode": {
    "name": "ipython",
    "version": 3
   },
   "file_extension": ".py",
   "mimetype": "text/x-python",
   "name": "python",
   "nbconvert_exporter": "python",
   "pygments_lexer": "ipython3",
   "version": "3.8.3"
  }
 },
 "nbformat": 4,
 "nbformat_minor": 4
}
